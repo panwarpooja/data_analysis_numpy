{
 "cells": [
  {
   "cell_type": "code",
   "execution_count": 2,
   "metadata": {},
   "outputs": [],
   "source": [
    "import numpy as np\n"
   ]
  },
  {
   "cell_type": "code",
   "execution_count": 3,
   "metadata": {},
   "outputs": [
    {
     "name": "stdout",
     "output_type": "stream",
     "text": [
      "[0. 0. 0. 0. 0.]\n",
      "[1 2 3]\n"
     ]
    }
   ],
   "source": [
    "print(np.zeros(5))\n",
    "print(np.array([1,2,3]))"
   ]
  },
  {
   "cell_type": "markdown",
   "metadata": {},
   "source": [
    "# Importing/exporting\n",
    "    np.loadtxt('file.txt') | From a text file\n",
    "    np.genfromtxt('file.csv',delimiter=',') | From a CSV file\n",
    "    np.savetxt('file.txt',arr,delimiter=' ') | Writes to a text file\n",
    "    np.savetxt('file.csv',arr,delimiter=',') | Writes to a CSV file\n",
    "\n",
    "# Creating Arrays\n",
    "    np.array([1,2,3]) | One dimensional array\n",
    "    np.array([(1,2,3),(4,5,6)]) | Two dimensional array\n",
    "    np.zeros(3) | 1D array of length 3 all values 0\n",
    "    np.ones((3,4)) | 3x4 array with all values 1\n",
    "    np.eye(5) | 5x5 array of 0 with 1 on diagonal (Identity matrix)\n",
    "    np.linspace(0,100,6) | Array of 6 evenly divided values from 0 to 100\n",
    "    np.arange(0,10,3) | Array of values from 0 to less than 10 with step 3 (eg [0,3,6,9])\n",
    "    np.full((2,3),8) | 2x3 array with all values 8\n",
    "    np.random.rand(4,5) | 4x5 array of random floats between 0–1\n",
    "    np.random.rand(6,7)*100 | 6x7 array of random floats between 0–100\n",
    "    np.random.randint(5,size=(2,3)) | 2x3 array with random ints between 0–4\n",
    "\n",
    "# Inspecting Properties\n",
    "    arr.size | Returns number of elements in arr\n",
    "    arr.shape | Returns dimensions of arr (rows,columns)\n",
    "    arr.dtype | Returns type of elements in arr\n",
    "    arr.astype(dtype) | Convert arr elements to type dtype\n",
    "    arr.tolist() | Convert arr to a Python list\n",
    "    np.info(np.eye) | View documentation for np.eye\n",
    "\n",
    "# Copying/sorting/reshaping\n",
    "    np.copy(arr) | Copies arr to new memory\n",
    "    arr.view(dtype) | Creates view of arr elements with type dtype\n",
    "    arr.sort() | Sorts arr\n",
    "    arr.sort(axis=0) | Sorts specific axis of arr\n",
    "    two_d_arr.flatten() | Flattens 2D array two_d_arr to 1D\n",
    "    arr.T | Transposes arr (rows become columns and vice versa)\n",
    "    arr.reshape(3,4) | Reshapes arr to 3 rows, 4 columns without changing data\n",
    "    arr.resize((5,6)) | Changes arr shape to 5x6 and fills new values with 0\n",
    "\n",
    "# Adding/removing Elements\n",
    "    np.append(arr,values) | Appends values to end of arr\n",
    "    np.insert(arr,2,values) | Inserts values into arr before index 2\n",
    "    np.delete(arr,3,axis=0) | Deletes row on index 3 of arr\n",
    "    np.delete(arr,4,axis=1) | Deletes column on index 4 of arr\n",
    "\n",
    "# Combining/splitting\n",
    "    np.concatenate((arr1,arr2),axis=0) | Adds arr2 as rows to the end of arr1\n",
    "    np.concatenate((arr1,arr2),axis=1) | Adds arr2 as columns to end of arr1\n",
    "    np.split(arr,3) | Splits arr into 3 sub-arrays\n",
    "    np.hsplit(arr,5) | Splits arr horizontally on the 5th index\n",
    "\n",
    "# Indexing/slicing/subsetting\n",
    "    arr[5] | Returns the element at index 5\n",
    "    arr[2,5] | Returns the 2D array element on index [2][5]\n",
    "    arr[1]=4 | Assigns array element on index 1 the value 4\n",
    "    arr[1,3]=10 | Assigns array element on index [1][3] the value 10\n",
    "    arr[0:3] | Returns the elements at indices 0,1,2 (On a 2D array: returns rows 0,1,2)\n",
    "    arr[0:3,4] | Returns the elements on rows 0,1,2 at column 4\n",
    "    arr[:2] | Returns the elements at indices 0,1 (On a 2D array: returns rows 0,1)\n",
    "    arr[:,1] | Returns the elements at index 1 on all rows\n",
    "    arr<5 | Returns an array with boolean values\n",
    "    (arr1<3) & (arr2>5) | Returns an array with boolean values\n",
    "    ~arr | Inverts a boolean array\n",
    "    arr[arr<5] | Returns array elements smaller than 5\n",
    "\n",
    "# Scalar Math\n",
    "    np.add(arr,1) | Add 1 to each array element\n",
    "    np.subtract(arr,2) | Subtract 2 from each array element\n",
    "    np.multiply(arr,3) | Multiply each array element by 3\n",
    "    np.divide(arr,4) | Divide each array element by 4 (returns np.nan for division by zero)\n",
    "    np.power(arr,5) | Raise each array element to the 5th power\n",
    "\n",
    "# Vector Math\n",
    "    np.add(arr1,arr2) | Elementwise add arr2 to arr1\n",
    "    np.subtract(arr1,arr2) | Elementwise subtract arr2 from arr1\n",
    "    np.multiply(arr1,arr2) | Elementwise multiply arr1 by arr2\n",
    "    np.divide(arr1,arr2) | Elementwise divide arr1 by arr2\n",
    "    np.power(arr1,arr2) | Elementwise raise arr1 raised to the power of arr2\n",
    "    np.array_equal(arr1,arr2) | Returns True if the arrays have the same elements and shape\n",
    "    np.sqrt(arr) | Square root of each element in the array\n",
    "    np.sin(arr) | Sine of each element in the array\n",
    "    np.log(arr) | Natural log of each element in the array\n",
    "    np.abs(arr) | Absolute value of each element in the array\n",
    "    np.ceil(arr) | Rounds up to the nearest int\n",
    "    np.floor(arr) | Rounds down to the nearest int\n",
    "    np.round(arr) | Rounds to the nearest int\n",
    "\n",
    "# Statistics\n",
    "    np.mean(arr,axis=0) | Returns mean along specific axis\n",
    "    arr.sum() | Returns sum of arr\n",
    "    arr.min() | Returns minimum value of arr\n",
    "    arr.max(axis=0) | Returns maximum value of specific axis\n",
    "    np.var(arr) | Returns the variance of array\n",
    "    np.std(arr,axis=1) | Returns the standard deviation of specific axis\n",
    "    arr.corrcoef() | Returns correlation coefficient of array\n",
    "    \n",
    "# Array Mathematics\n",
    "   ## Arithmetic Operations\n",
    "    >>> g = a - b Subtraction\n",
    "     array([[-0.5, 0. , 0. ],\n",
    "     [-3. , -3. , -3. ]])\n",
    "    >>> np.subtract(a,b) Subtraction\n",
    "    >>> b + a Addition\n",
    "     array([[ 2.5, 4. , 6. ],\n",
    "     [ 5. , 7. , 9. ]])\n",
    "    >>> np.add(b,a) Addition\n",
    "    >>> a / b Division\n",
    "     array([[ 0.66666667, 1. , 1. ],\n",
    "     [ 0.25 , 0.4 , 0.5 ]])\n",
    "    >>> np.divide(a,b) Division\n",
    "    >>> a * b Multiplication\n",
    "     array([[ 1.5, 4. , 9. ],\n",
    "     [ 4. , 10. , 18. ]])\n",
    "    >>> np.multiply(a,b) Multiplication\n",
    "    >>> np.exp(b) Exponentiation\n",
    "    >>> np.sqrt(b) Square root\n",
    "    >>> np.sin(a) Print sines of an array\n",
    "    >>> np.cos(b) Element-wise cosine\n",
    "    >>> np.log(a) Element-wise natural logarithm\n",
    "    >>> e.dot(f) Dot product\n",
    "     array([[ 7., 7.],\n",
    "     [ 7., 7.]])\n",
    "\n",
    "# Subsetting, Slicing, Indexing\n",
    "    >>> a.sum() Array-wise sum\n",
    "    >>> a.min() Array-wise minimum value\n",
    "    >>> b.max(axis=0) Maximum value of an array row\n",
    "    >>> b.cumsum(axis=1) Cumulative sum of the elements\n",
    "    >>> a.mean() Mean\n",
    "    >>> b.median() Median\n",
    "    >>> a.corrcoef() Correlation coefficient\n",
    "    >>> np.std(b) Standard deviation\n",
    "\n",
    "# Comparison\n",
    "    >>> a == b Element-wise comparison\n",
    "     array([[False, True, True],\n",
    "     [False, False, False]], dtype=bool)\n",
    "    >>> a < 2 Element-wise comparison\n",
    "     array([True, False, False], dtype=bool)\n",
    "    >>> np.array_equal(a, b) Array-wise comparison\n",
    "## Aggregate Functions\n",
    "    >>> a.sum() Array-wise sum\n",
    "    >>> a.min() Array-wise minimum value\n",
    "    >>> b.max(axis=0) Maximum value of an array row\n",
    "    >>> b.cumsum(axis=1) Cumulative sum of the elements\n",
    "    >>> a.mean() Mean\n",
    "    >>> b.median() Median\n",
    "    >>> a.corrcoef() Correlation coefficient\n",
    "    >>> np.std(b) Standard deviation\n",
    "## Sorting Arrays\n",
    "    >>> a.sort() Sort an array\n",
    "    >>> c.sort(axis=0) Sort the elements of an array's axis\n",
    "## Subsetting, Slicing, Indexing\n",
    "   \n",
    "   ### Subsetting\n",
    "    >>> a[2] Select the element at the 2nd index 3\n",
    "    >>> b[1,2] Select the element at row 1 column 2\n",
    "     6.0 (equivalent to b[1][2])\n",
    "   \n",
    "   ### Slicing\n",
    "   \n",
    "    >>> a[0:2] Select items at index 0 and 1\n",
    "     array([1, 2])\n",
    "    >>> b[0:2,1] Select items at rows 0 and 1 in column 1\n",
    "     array([ 2., 5.])\n",
    "\n",
    "    >>> b[:1] Select all items at row 0\n",
    "     array([[1.5, 2., 3.]]) (equivalent to b[0:1, :])\n",
    "    >>> c[1,...] Same as [1,:,:]\n",
    "     array([[[ 3., 2., 1.],\n",
    "     [ 4., 5., 6.]]])\n",
    "    >>> a[ : :-1] Reversed array a array([3, 2, 1])\n",
    "   \n",
    "   ### Boolean Indexing\n",
    "   \n",
    "   >>> a[a<2] Select elements from a less than 2\n",
    "     array([1])\n",
    "   \n",
    "   ### Fancy Indexing\n",
    "   \n",
    "    >>> b[[1, 0, 1, 0],[0, 1, 2, 0]] Select elements (1,0),(0,1),(1,2) and (0,0)\n",
    "     array([ 4. , 2. , 6. , 1.5])\n",
    "    >>> b[[1, 0, 1, 0]][:,[0,1,2,0]] Select a subset of the matrix’s rows\n",
    "     array([[ 4. ,5. , 6. , 4. ], and columns\n",
    "     [ 1.5, 2. , 3. , 1.5],\n",
    "     [ 4. , 5. , 6. , 4. ],\n",
    "     [ 1.5, 2. , 3. , 1.5]])\n",
    "# Array Manipulation\n",
    "   ### Transposing Array\n",
    "    >>> i = np.transpose(b) Permute array dimensions\n",
    "    >>> i.T Permute array dimensions\n",
    "   ### Changing Array Shape\n",
    "    >>> b.ravel() Flatten the array\n",
    "    >>> g.reshape(3,-2) Reshape, but don’t change data\n",
    "   ### Adding/Removing Elements\n",
    "    >>> h.resize((2,6)) Return a new array with shape (2,6)\n",
    "    >>> np.append(h,g) Append items to an array\n",
    "    >>> np.insert(a, 1, 5) Insert items in an array\n",
    "    >>> np.delete(a,[1]) Delete items from an array\n",
    "   ### Combining Arrays\n",
    "    >>> np.concatenate((a,d),axis=0) Concatenate arrays\n",
    "     array([ 1, 2, 3, 10, 15, 20])\n",
    "    >>> np.vstack((a,b)) Stack arrays vertically (row-wise)\n",
    "     array([[ 1. , 2. , 3. ],\n",
    "     [ 1.5, 2. , 3. ],\n",
    "     [ 4. , 5. , 6. ]])\n",
    "    >>> np.r_[e,f] Stack arrays vertically (row-wise)\n",
    "    >>> np.hstack((e,f)) Stack arrays horizontally (column-wise)\n",
    "     array([[ 7., 7., 1., 0.],\n",
    "     [ 7., 7., 0., 1.]])\n",
    "    >>> np.column_stack((a,d)) Create stacked column-wise arrays\n",
    "     array([[ 1, 10],\n",
    "     [ 2, 15],\n",
    "     [ 3, 20]])\n",
    "    >>> np.c_[a,d] Create stacked column-wise arrays\n",
    "   ### Splitting Arrays\n",
    "    >>> np.hsplit(a,3) Split the array horizontally at the 3rd\n",
    "     [array([1]),array([2]),array([3])] index\n",
    "    >>> np.vsplit(c,2) Split the array vertically at the 2nd index\n",
    "    [array([[[ 1.5, 2. , 1. ],\n",
    "     [ 4. , 5. , 6. ]]]),\n",
    "     array([[[ 3., 2., 3.],\n",
    "     [ 4., 5., 6.]]])]"
   ]
  },
  {
   "cell_type": "code",
   "execution_count": 3,
   "metadata": {},
   "outputs": [],
   "source": [
    "a=np.array([1,2,3])\n",
    "b=np.array([2,3,1])\n",
    "c=np.array([[1,2,3],[4,5,6],[7,8,9]])\n"
   ]
  },
  {
   "cell_type": "code",
   "execution_count": 35,
   "metadata": {},
   "outputs": [
    {
     "data": {
      "text/plain": [
       "[array([[1, 2, 3]]), array([[4, 5, 6]]), array([[7, 8, 9]])]"
      ]
     },
     "execution_count": 35,
     "metadata": {},
     "output_type": "execute_result"
    }
   ],
   "source": [
    "np.split(c,3)"
   ]
  },
  {
   "cell_type": "markdown",
   "metadata": {},
   "source": [
    "# How to extract specific items from an array?"
   ]
  },
  {
   "cell_type": "code",
   "execution_count": 9,
   "metadata": {},
   "outputs": [
    {
     "data": {
      "text/plain": [
       "array([[1., 2., 3., 4.],\n",
       "       [3., 4., 5., 6.],\n",
       "       [5., 6., 7., 8.]])"
      ]
     },
     "execution_count": 9,
     "metadata": {},
     "output_type": "execute_result"
    }
   ],
   "source": [
    "import numpy as np\n",
    "# Create a 2d array with 3 rows and 4 columns\n",
    "list2 = [[1, 2, 3, 4],[3, 4, 5, 6], [5, 6, 7, 8]]\n",
    "arr2  = np.array(list2, dtype='float')\n",
    "arr2"
   ]
  },
  {
   "cell_type": "code",
   "execution_count": 10,
   "metadata": {},
   "outputs": [
    {
     "data": {
      "text/plain": [
       "array([[5., 6.],\n",
       "       [7., 8.]])"
      ]
     },
     "execution_count": 10,
     "metadata": {},
     "output_type": "execute_result"
    }
   ],
   "source": [
    "# Extract the first 2 rows and columns\n",
    "arr2[1:, 2:]\n",
    "#list2[:2, :2] # error"
   ]
  },
  {
   "cell_type": "code",
   "execution_count": 11,
   "metadata": {},
   "outputs": [
    {
     "data": {
      "text/plain": [
       "array([[False, False, False, False],\n",
       "       [False, False,  True,  True],\n",
       "       [ True,  True,  True,  True]])"
      ]
     },
     "execution_count": 11,
     "metadata": {},
     "output_type": "execute_result"
    }
   ],
   "source": [
    "# Get the boolean output by applying the condition to each element.\n",
    "b = arr2 > 4\n",
    "b"
   ]
  },
  {
   "cell_type": "code",
   "execution_count": 12,
   "metadata": {},
   "outputs": [
    {
     "data": {
      "text/plain": [
       "array([5., 6., 5., 6., 7., 8.])"
      ]
     },
     "execution_count": 12,
     "metadata": {},
     "output_type": "execute_result"
    }
   ],
   "source": [
    "arr2[b]"
   ]
  },
  {
   "cell_type": "markdown",
   "metadata": {},
   "source": [
    "# How to reverse the rows and the whole array?"
   ]
  },
  {
   "cell_type": "code",
   "execution_count": 13,
   "metadata": {},
   "outputs": [
    {
     "data": {
      "text/plain": [
       "array([[5., 6., 7., 8.],\n",
       "       [3., 4., 5., 6.],\n",
       "       [1., 2., 3., 4.]])"
      ]
     },
     "execution_count": 13,
     "metadata": {},
     "output_type": "execute_result"
    }
   ],
   "source": [
    "# Reverse only the row positions\n",
    "arr2[::-1, ]"
   ]
  },
  {
   "cell_type": "code",
   "execution_count": 8,
   "metadata": {},
   "outputs": [
    {
     "data": {
      "text/plain": [
       "array([[8., 7., 6., 5.],\n",
       "       [6., 5., 4., 3.],\n",
       "       [4., 3., 2., 1.]])"
      ]
     },
     "execution_count": 8,
     "metadata": {},
     "output_type": "execute_result"
    }
   ],
   "source": [
    "# Reverse the row and column positions\n",
    "arr2[::-1, ::-1]"
   ]
  },
  {
   "cell_type": "markdown",
   "metadata": {},
   "source": [
    "# How to represent missing values and infinite?"
   ]
  },
  {
   "cell_type": "code",
   "execution_count": 14,
   "metadata": {},
   "outputs": [
    {
     "data": {
      "text/plain": [
       "array([[ 1.,  2.,  3.,  4.],\n",
       "       [ 3., nan, inf,  6.],\n",
       "       [ 5.,  6.,  7.,  8.]])"
      ]
     },
     "execution_count": 14,
     "metadata": {},
     "output_type": "execute_result"
    }
   ],
   "source": [
    "# Insert a nan and an inf\n",
    "arr2[1,1] = np.nan # not a number\n",
    "arr2[1,2] = np.inf # infinite\n",
    "arr2"
   ]
  },
  {
   "cell_type": "code",
   "execution_count": 15,
   "metadata": {},
   "outputs": [
    {
     "data": {
      "text/plain": [
       "array([[ 1.,  2.,  3.,  4.],\n",
       "       [ 3., -1., -1.,  6.],\n",
       "       [ 5.,  6.,  7.,  8.]])"
      ]
     },
     "execution_count": 15,
     "metadata": {},
     "output_type": "execute_result"
    }
   ],
   "source": [
    "# Replace nan and inf with -1. Don't use arr2 == np.nan\n",
    "missing_bool = np.isnan(arr2) | np.isinf(arr2)\n",
    "arr2[missing_bool] = -1\n",
    "arr2"
   ]
  },
  {
   "cell_type": "markdown",
   "metadata": {},
   "source": [
    "# How to compute mean, min, max on the ndarray?"
   ]
  },
  {
   "cell_type": "code",
   "execution_count": 12,
   "metadata": {},
   "outputs": [
    {
     "name": "stdout",
     "output_type": "stream",
     "text": [
      "Mean value is:  3.5833333333333335\n",
      "Max value is:  8.0\n",
      "Min value is:  -1.0\n",
      "[ 1.  3.  6. 10. 13. 12. 11. 17. 22. 28. 35. 43.]\n"
     ]
    }
   ],
   "source": [
    "# mean, max and min\n",
    "print(\"Mean value is: \", arr2.mean())\n",
    "print(\"Max value is: \", arr2.max())\n",
    "print(\"Min value is: \", arr2.min())\n",
    "# Cumulative Sum\n",
    "print(np.cumsum(arr2))"
   ]
  },
  {
   "cell_type": "markdown",
   "metadata": {},
   "source": [
    "# How to create a new array from an existing array?"
   ]
  },
  {
   "cell_type": "code",
   "execution_count": 13,
   "metadata": {},
   "outputs": [
    {
     "data": {
      "text/plain": [
       "array([[100.,   2.,   3.,   4.],\n",
       "       [  3.,  -1.,  -1.,   6.],\n",
       "       [  5.,   6.,   7.,   8.]])"
      ]
     },
     "execution_count": 13,
     "metadata": {},
     "output_type": "execute_result"
    }
   ],
   "source": [
    "# Assign portion of arr2 to arr2a. Doesn't really create a new array.\n",
    "arr2a = arr2[:2,:2]\n",
    "arr2a[:1, :1] = 100 # 100 will reflect in arr2\n",
    "arr2"
   ]
  },
  {
   "cell_type": "markdown",
   "metadata": {},
   "source": [
    "# Reshaping and Flattening Multidimensional arrays"
   ]
  },
  {
   "cell_type": "code",
   "execution_count": 14,
   "metadata": {},
   "outputs": [
    {
     "data": {
      "text/plain": [
       "array([[100.,   2.,   3.],\n",
       "       [  4.,   3.,  -1.],\n",
       "       [ -1.,   6.,   5.],\n",
       "       [  6.,   7.,   8.]])"
      ]
     },
     "execution_count": 14,
     "metadata": {},
     "output_type": "execute_result"
    }
   ],
   "source": [
    "# Reshape a 3x4 array to 4x3 array\n",
    "arr2.reshape(4, 3)"
   ]
  },
  {
   "cell_type": "markdown",
   "metadata": {},
   "source": [
    "# What is the difference between flatten() and ravel()?\n",
    "\n",
    "The difference between ravel and flatten is, the new array created using ravel is actually a\n",
    "reference to the parent array. So, any changes to the new array will affect the parent as\n",
    "well. But is memory efficient since it does not create a copy."
   ]
  },
  {
   "cell_type": "code",
   "execution_count": 15,
   "metadata": {},
   "outputs": [
    {
     "data": {
      "text/plain": [
       "array([100.,   2.,   3.,   4.,   3.,  -1.,  -1.,   6.,   5.,   6.,   7.,\n",
       "         8.])"
      ]
     },
     "execution_count": 15,
     "metadata": {},
     "output_type": "execute_result"
    }
   ],
   "source": [
    "# Flatten it to a 1d array\n",
    "arr2.flatten()"
   ]
  },
  {
   "cell_type": "code",
   "execution_count": 16,
   "metadata": {},
   "outputs": [
    {
     "data": {
      "text/plain": [
       "array([[ 1.,  2.,  3.,  4.],\n",
       "       [ 3., -1., -1.,  6.],\n",
       "       [ 5.,  6.,  7.,  8.]])"
      ]
     },
     "execution_count": 16,
     "metadata": {},
     "output_type": "execute_result"
    }
   ],
   "source": [
    "# Changing the flattened array does not change parent\n",
    "b1 = arr2.flatten()\n",
    "b1[0] = 90 # changing b1 does not affect arr2\n",
    "arr2"
   ]
  },
  {
   "cell_type": "code",
   "execution_count": 18,
   "metadata": {},
   "outputs": [
    {
     "name": "stdout",
     "output_type": "stream",
     "text": [
      "[101.   2.   3.   4.   3.  -1.  -1.   6.   5.   6.   7.   8.]\n"
     ]
    },
    {
     "data": {
      "text/plain": [
       "array([[101.,   2.,   3.,   4.],\n",
       "       [  3.,  -1.,  -1.,   6.],\n",
       "       [  5.,   6.,   7.,   8.]])"
      ]
     },
     "execution_count": 18,
     "metadata": {},
     "output_type": "execute_result"
    }
   ],
   "source": [
    "# Changing the raveled array changes the parent also.\n",
    "b2 = arr2.ravel()\n",
    "print(b2)\n",
    "b2[0] = 101 # changing b2 changes arr2 also\n",
    "arr2"
   ]
  },
  {
   "cell_type": "markdown",
   "metadata": {},
   "source": [
    "# How to create sequences, repetitions and random numbers using numpy?"
   ]
  },
  {
   "cell_type": "code",
   "execution_count": 18,
   "metadata": {},
   "outputs": [
    {
     "name": "stdout",
     "output_type": "stream",
     "text": [
      "[0 1 2 3 4]\n",
      "[0 1 2 3 4 5 6 7 8 9]\n",
      "[0 2 4 6 8]\n",
      "[10  9  8  7  6  5  4  3  2  1]\n"
     ]
    }
   ],
   "source": [
    "# Lower limit is 0 be default\n",
    "print(np.arange(5))\n",
    "# 0 to 9\n",
    "print(np.arange(0, 10))\n",
    "# 0 to 9 with step of 2\n",
    "print(np.arange(0, 10, 2))\n",
    "# 10 to 1, decreasing order\n",
    "print(np.arange(10, 0, -1))"
   ]
  },
  {
   "cell_type": "code",
   "execution_count": 22,
   "metadata": {},
   "outputs": [
    {
     "data": {
      "text/plain": [
       "array([  1,  12,  23,  34,  45,  56,  67,  78,  89, 100])"
      ]
     },
     "execution_count": 22,
     "metadata": {},
     "output_type": "execute_result"
    }
   ],
   "source": [
    "# Start at 1 and end at 50\n",
    "np.linspace(start=1, stop=100, num=10, dtype=int)"
   ]
  },
  {
   "cell_type": "code",
   "execution_count": 23,
   "metadata": {},
   "outputs": [
    {
     "name": "stdout",
     "output_type": "stream",
     "text": [
      "None\n"
     ]
    },
    {
     "data": {
      "text/plain": [
       "array([1.00e+01, 2.78e+06, 7.74e+11, 2.15e+17, 5.99e+22, 1.67e+28,\n",
       "       4.64e+33, 1.29e+39, 3.59e+44, 1.00e+50])"
      ]
     },
     "execution_count": 23,
     "metadata": {},
     "output_type": "execute_result"
    }
   ],
   "source": [
    "# Limit the number of digits after the decimal to 2\n",
    "np.set_printoptions(precision=2)\n",
    "# Start at 10^1 and end at 10^50\n",
    "np.logspace(start=1, stop=50, num=10, base=10)"
   ]
  },
  {
   "cell_type": "code",
   "execution_count": 21,
   "metadata": {},
   "outputs": [
    {
     "data": {
      "text/plain": [
       "array([[0., 0.],\n",
       "       [0., 0.]])"
      ]
     },
     "execution_count": 21,
     "metadata": {},
     "output_type": "execute_result"
    }
   ],
   "source": [
    "np.zeros([2,2])"
   ]
  },
  {
   "cell_type": "code",
   "execution_count": 22,
   "metadata": {},
   "outputs": [
    {
     "data": {
      "text/plain": [
       "array([[1., 1.],\n",
       "       [1., 1.]])"
      ]
     },
     "execution_count": 22,
     "metadata": {},
     "output_type": "execute_result"
    }
   ],
   "source": [
    "np.ones([2,2])"
   ]
  },
  {
   "cell_type": "markdown",
   "metadata": {},
   "source": [
    "# How to create repeating sequences?"
   ]
  },
  {
   "cell_type": "code",
   "execution_count": 23,
   "metadata": {},
   "outputs": [
    {
     "name": "stdout",
     "output_type": "stream",
     "text": [
      "Tile:  [1 2 3 1 2 3]\n",
      "Repeat:  [1 1 2 2 3 3]\n"
     ]
    }
   ],
   "source": [
    "a = [1,2,3]\n",
    "# Repeat whole of 'a' two times\n",
    "print('Tile: ', np.tile(a, 2))\n",
    "# Repeat each element of 'a' two times\n",
    "print('Repeat: ', np.repeat(a, 2))"
   ]
  },
  {
   "cell_type": "markdown",
   "metadata": {},
   "source": [
    "# How to generate random numbers?"
   ]
  },
  {
   "cell_type": "code",
   "execution_count": 65,
   "metadata": {},
   "outputs": [
    {
     "name": "stdout",
     "output_type": "stream",
     "text": [
      "[[0.03 0.7 ]\n",
      " [0.03 0.32]]\n",
      "[[-0.98  2.02]\n",
      " [-0.51  0.65]]\n",
      "[[6 2]\n",
      " [4 1]]\n",
      "0.7044204082888571\n",
      "[[0.61 0.56]\n",
      " [0.86 0.92]]\n",
      "['o' 'a' 'e' 'e' 'u' 'o' 'e' 'a' 'e' 'i']\n",
      "['i' 'o' 'o' 'e' 'u' 'o' 'o' 'a' 'a' 'o']\n",
      "[[0.54 0.28]\n",
      " [0.42 0.84]]\n",
      "[[0.57 0.15]\n",
      " [0.95 0.23]]\n"
     ]
    }
   ],
   "source": [
    "# Random numbers between [0,1) of shape 2,2\n",
    "print(np.random.rand(2,2))\n",
    "\n",
    "# # Normal distribution with mean=0 and variance=1 of shape 2,2\n",
    "print(np.random.randn(2,2))\n",
    "\n",
    "# # Random integers between [0, 10) of shape 2,2\n",
    "print(np.random.randint(0, 10, size=[2,2]))\n",
    "\n",
    "# # One random number between [0,1)\n",
    "print(np.random.random())\n",
    "\n",
    "# # Random numbers between [0,1) of shape 2,2\n",
    "print(np.random.random(size=[2,2]))\n",
    "\n",
    "# # Pick 10 items from a given list, odd-even probability\n",
    "print(np.random.choice(['a', 'e', 'i', 'o', 'u'], size=10))\n",
    "\n",
    "# # Pick 10 items from a given list with a predefined probability 'p'\n",
    "print(np.random.choice(['a', 'e', 'i', 'o', 'u'], size=10, p=[0.3, .1, 0.1, 0.4, 0.1])) # picks more o's\n",
    "\n",
    "# # Create the random state\n",
    "rn = np.random.RandomState(100)\n",
    "# # Create random numbers between [0,1) of shape 2,2\n",
    "print(rn.rand(2,2))\n",
    "# # Set the random seed\n",
    "# np.random.seed(100)\n",
    "# # Create random numbers between [0,1) of shape 2,2\n",
    "print(np.random.rand(2,2))"
   ]
  },
  {
   "cell_type": "code",
   "execution_count": 67,
   "metadata": {},
   "outputs": [
    {
     "data": {
      "text/plain": [
       "array([[80, 78, 66, 67, 82],\n",
       "       [70, 85, 68, 73, 92],\n",
       "       [88, 85, 57, 63, 97],\n",
       "       [68, 93, 73, 78, 74],\n",
       "       [71, 51, 93, 80, 78]])"
      ]
     },
     "execution_count": 67,
     "metadata": {},
     "output_type": "execute_result"
    }
   ],
   "source": [
    "# Create an array of 5x5 shape of elements from 10 to 100\n",
    "mt=np.random.randint(50,100,size=[5,5])\n",
    "mt"
   ]
  },
  {
   "cell_type": "markdown",
   "metadata": {},
   "source": [
    "# How to get the unique items and the counts?"
   ]
  },
  {
   "cell_type": "code",
   "execution_count": 28,
   "metadata": {},
   "outputs": [
    {
     "name": "stdout",
     "output_type": "stream",
     "text": [
      "[8 8 3 7 7 0 4 2 5 2]\n"
     ]
    }
   ],
   "source": [
    "# Create random integers of size 10 between [0,10)\n",
    "np.random.seed(100)\n",
    "arr_rand = np.random.randint(0, 10, size=10)\n",
    "print(arr_rand)"
   ]
  },
  {
   "cell_type": "code",
   "execution_count": 29,
   "metadata": {},
   "outputs": [
    {
     "name": "stdout",
     "output_type": "stream",
     "text": [
      "Unique items :  [0 2 3 4 5 7 8]\n",
      "Counts :  [1 2 1 1 1 2 2]\n"
     ]
    }
   ],
   "source": [
    "# Get the unique items and their counts\n",
    "uniqs, counts = np.unique(arr_rand, return_counts=True)\n",
    "print(\"Unique items : \", uniqs)\n",
    "print(\"Counts : \", counts)"
   ]
  },
  {
   "cell_type": "markdown",
   "metadata": {},
   "source": [
    "# How to handle datasets that has both numbers and text columns?"
   ]
  },
  {
   "cell_type": "code",
   "execution_count": 70,
   "metadata": {},
   "outputs": [
    {
     "data": {
      "text/plain": [
       "array([[ 1.80e+01,  8.00e+00,  3.07e+02,  1.30e+02,  3.50e+03,  1.20e+01,\n",
       "         7.00e+01,  1.00e+00, -9.99e+02],\n",
       "       [ 1.50e+01,  8.00e+00,  3.50e+02,  1.65e+02,  3.69e+03,  1.15e+01,\n",
       "         7.00e+01,  1.00e+00, -9.99e+02],\n",
       "       [ 1.80e+01,  8.00e+00,  3.18e+02,  1.50e+02,  3.44e+03,  1.10e+01,\n",
       "         7.00e+01,  1.00e+00, -9.99e+02]])"
      ]
     },
     "execution_count": 70,
     "metadata": {},
     "output_type": "execute_result"
    }
   ],
   "source": [
    "data = np.genfromtxt('Auto.csv', delimiter=',', skip_header=1, filling_values=-999, dtype='float')\n",
    "data[:3] # see first 3 rows1.8000"
   ]
  },
  {
   "cell_type": "code",
   "execution_count": 31,
   "metadata": {},
   "outputs": [],
   "source": [
    "# Save the array as a csv file\n",
    "np.savetxt(\"out.csv\", data, delimiter=\",\")"
   ]
  },
  {
   "cell_type": "markdown",
   "metadata": {},
   "source": [
    "# How to concatenate two numpy arrays columnwise and rowwise"
   ]
  },
  {
   "cell_type": "code",
   "execution_count": 26,
   "metadata": {},
   "outputs": [
    {
     "name": "stdout",
     "output_type": "stream",
     "text": [
      "[[0. 0. 0. 0.]\n",
      " [0. 0. 0. 0.]\n",
      " [0. 0. 0. 0.]\n",
      " [0. 0. 0. 0.]]\n",
      "[[1. 1. 1. 1.]\n",
      " [1. 1. 1. 1.]\n",
      " [1. 1. 1. 1.]\n",
      " [1. 1. 1. 1.]]\n"
     ]
    }
   ],
   "source": [
    "a = np.zeros([4, 4])\n",
    "b = np.ones([4, 4])\n",
    "print(a)\n",
    "print(b)"
   ]
  },
  {
   "cell_type": "code",
   "execution_count": 32,
   "metadata": {
    "scrolled": false
   },
   "outputs": [
    {
     "name": "stdout",
     "output_type": "stream",
     "text": [
      "[[0. 0. 0. 0.]\n",
      " [0. 0. 0. 0.]\n",
      " [0. 0. 0. 0.]\n",
      " [0. 0. 0. 0.]\n",
      " [1. 1. 1. 1.]\n",
      " [1. 1. 1. 1.]\n",
      " [1. 1. 1. 1.]\n",
      " [1. 1. 1. 1.]]\n",
      "[[0. 0. 0. 0.]\n",
      " [0. 0. 0. 0.]\n",
      " [0. 0. 0. 0.]\n",
      " [0. 0. 0. 0.]\n",
      " [1. 1. 1. 1.]\n",
      " [1. 1. 1. 1.]\n",
      " [1. 1. 1. 1.]\n",
      " [1. 1. 1. 1.]]\n",
      "[[0. 0. 0. 0.]\n",
      " [0. 0. 0. 0.]\n",
      " [0. 0. 0. 0.]\n",
      " [0. 0. 0. 0.]\n",
      " [1. 1. 1. 1.]\n",
      " [1. 1. 1. 1.]\n",
      " [1. 1. 1. 1.]\n",
      " [1. 1. 1. 1.]]\n"
     ]
    }
   ],
   "source": [
    "# Vertical Stack Equivalents (Row wise)\n",
    "print(np.concatenate([a, b], axis=0))\n",
    "print(np.vstack([a,b]))\n",
    "print(np.r_[a,b])"
   ]
  },
  {
   "cell_type": "code",
   "execution_count": 34,
   "metadata": {},
   "outputs": [
    {
     "name": "stdout",
     "output_type": "stream",
     "text": [
      "[[0. 0. 0. 0. 1. 1. 1. 1.]\n",
      " [0. 0. 0. 0. 1. 1. 1. 1.]\n",
      " [0. 0. 0. 0. 1. 1. 1. 1.]\n",
      " [0. 0. 0. 0. 1. 1. 1. 1.]]\n",
      "[[0. 0. 0. 0. 1. 1. 1. 1.]\n",
      " [0. 0. 0. 0. 1. 1. 1. 1.]\n",
      " [0. 0. 0. 0. 1. 1. 1. 1.]\n",
      " [0. 0. 0. 0. 1. 1. 1. 1.]]\n",
      "[[0. 0. 0. 0. 1. 1. 1. 1.]\n",
      " [0. 0. 0. 0. 1. 1. 1. 1.]\n",
      " [0. 0. 0. 0. 1. 1. 1. 1.]\n",
      " [0. 0. 0. 0. 1. 1. 1. 1.]]\n"
     ]
    }
   ],
   "source": [
    "# Horizontal Stack Equivalents (Coliumn wise)\n",
    "print(np.concatenate([a, b], axis=1))\n",
    "print(np.hstack([a,b]))\n",
    "print(np.c_[a,b])"
   ]
  },
  {
   "cell_type": "code",
   "execution_count": 36,
   "metadata": {},
   "outputs": [
    {
     "data": {
      "text/plain": [
       "array([1, 2, 3, 0, 0, 4, 5, 6])"
      ]
     },
     "execution_count": 36,
     "metadata": {},
     "output_type": "execute_result"
    }
   ],
   "source": [
    "np.r_[[1,2,3], 0, 0, [4,5,6]]"
   ]
  },
  {
   "cell_type": "markdown",
   "metadata": {},
   "source": [
    "# How to sort a numpy array based on one or more columns?"
   ]
  },
  {
   "cell_type": "code",
   "execution_count": 37,
   "metadata": {},
   "outputs": [
    {
     "data": {
      "text/plain": [
       "array([[3, 3, 2, 1],\n",
       "       [1, 5, 4, 5],\n",
       "       [3, 1, 4, 2],\n",
       "       [3, 4, 5, 5],\n",
       "       [2, 4, 5, 5],\n",
       "       [4, 4, 4, 2],\n",
       "       [2, 4, 1, 3],\n",
       "       [2, 2, 4, 3]])"
      ]
     },
     "execution_count": 37,
     "metadata": {},
     "output_type": "execute_result"
    }
   ],
   "source": [
    "arr = np.random.randint(1,6, size=[8, 4])\n",
    "arr"
   ]
  },
  {
   "cell_type": "code",
   "execution_count": 38,
   "metadata": {},
   "outputs": [
    {
     "data": {
      "text/plain": [
       "array([[1, 1, 1, 1],\n",
       "       [2, 2, 2, 2],\n",
       "       [2, 3, 4, 2],\n",
       "       [2, 4, 4, 3],\n",
       "       [3, 4, 4, 3],\n",
       "       [3, 4, 4, 5],\n",
       "       [3, 4, 5, 5],\n",
       "       [4, 5, 5, 5]])"
      ]
     },
     "execution_count": 38,
     "metadata": {},
     "output_type": "execute_result"
    }
   ],
   "source": [
    "# Sort each columns of arr\n",
    "np.sort(arr, axis=0)"
   ]
  },
  {
   "cell_type": "markdown",
   "metadata": {},
   "source": [
    "# How to sort a numpy array based on 1 column using argsort?"
   ]
  },
  {
   "cell_type": "code",
   "execution_count": 39,
   "metadata": {},
   "outputs": [
    {
     "name": "stdout",
     "output_type": "stream",
     "text": [
      "[0 3 2 4 5 1]\n"
     ]
    }
   ],
   "source": [
    "# Get the index positions that would sort the array\n",
    "x = np.array([1, 10, 5, 2, 8, 9])\n",
    "sort_index = np.argsort(x)\n",
    "print(sort_index)"
   ]
  },
  {
   "cell_type": "code",
   "execution_count": 40,
   "metadata": {},
   "outputs": [
    {
     "data": {
      "text/plain": [
       "array([ 1,  2,  5,  8,  9, 10])"
      ]
     },
     "execution_count": 40,
     "metadata": {},
     "output_type": "execute_result"
    }
   ],
   "source": [
    "x[sort_index]"
   ]
  },
  {
   "cell_type": "code",
   "execution_count": 41,
   "metadata": {},
   "outputs": [
    {
     "data": {
      "text/plain": [
       "array([[1, 5, 4, 5],\n",
       "       [2, 4, 5, 5],\n",
       "       [2, 4, 1, 3],\n",
       "       [2, 2, 4, 3],\n",
       "       [3, 3, 2, 1],\n",
       "       [3, 1, 4, 2],\n",
       "       [3, 4, 5, 5],\n",
       "       [4, 4, 4, 2]])"
      ]
     },
     "execution_count": 41,
     "metadata": {},
     "output_type": "execute_result"
    }
   ],
   "source": [
    "# Argsort the first column\n",
    "sorted_index_1stcol = arr[:, 0].argsort()\n",
    "# Sort 'arr' by first column without disturbing the integrity of rows\n",
    "arr[sorted_index_1stcol]"
   ]
  },
  {
   "cell_type": "code",
   "execution_count": 42,
   "metadata": {},
   "outputs": [
    {
     "data": {
      "text/plain": [
       "array([[4, 4, 4, 2],\n",
       "       [3, 4, 5, 5],\n",
       "       [3, 1, 4, 2],\n",
       "       [3, 3, 2, 1],\n",
       "       [2, 2, 4, 3],\n",
       "       [2, 4, 1, 3],\n",
       "       [2, 4, 5, 5],\n",
       "       [1, 5, 4, 5]])"
      ]
     },
     "execution_count": 42,
     "metadata": {},
     "output_type": "execute_result"
    }
   ],
   "source": [
    "# Descending sort\n",
    "arr[sorted_index_1stcol[::-1]]"
   ]
  },
  {
   "cell_type": "code",
   "execution_count": null,
   "metadata": {},
   "outputs": [],
   "source": []
  }
 ],
 "metadata": {
  "kernelspec": {
   "display_name": "Python 3",
   "language": "python",
   "name": "python3"
  },
  "language_info": {
   "codemirror_mode": {
    "name": "ipython",
    "version": 3
   },
   "file_extension": ".py",
   "mimetype": "text/x-python",
   "name": "python",
   "nbconvert_exporter": "python",
   "pygments_lexer": "ipython3",
   "version": "3.8.5"
  }
 },
 "nbformat": 4,
 "nbformat_minor": 4
}
